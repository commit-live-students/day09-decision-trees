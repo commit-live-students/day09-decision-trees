{
 "cells": [
  {
   "cell_type": "markdown",
   "metadata": {},
   "source": [
    "### Gini Index"
   ]
  },
  {
   "cell_type": "markdown",
   "metadata": {},
   "source": [
    "Calculate Gini for sub-nodes, using formula sum of square of probability for success and failure (p^2+q^2).\n",
    "\n",
    "Calculate Gini for split using weighted Gini score of each node of that split"
   ]
  },
  {
   "cell_type": "markdown",
   "metadata": {},
   "source": [
    "We want to know, who all have watched the movie, lets use `employment_status` & `age` as the split."
   ]
  },
  {
   "cell_type": "markdown",
   "metadata": {},
   "source": [
    "__Split on `employment_status`__"
   ]
  },
  {
   "cell_type": "code",
   "execution_count": 1,
   "metadata": {
    "collapsed": true
   },
   "outputs": [],
   "source": [
    "import pandas as pd\n",
    "import numpy as np\n",
    "sample = 50\n",
    "films = pd.read_csv('../data/films.csv')"
   ]
  },
  {
   "cell_type": "code",
   "execution_count": 3,
   "metadata": {
    "collapsed": false
   },
   "outputs": [
    {
     "data": {
      "text/html": [
       "<div>\n",
       "<style>\n",
       "    .dataframe thead tr:only-child th {\n",
       "        text-align: right;\n",
       "    }\n",
       "\n",
       "    .dataframe thead th {\n",
       "        text-align: left;\n",
       "    }\n",
       "\n",
       "    .dataframe tbody tr th {\n",
       "        vertical-align: top;\n",
       "    }\n",
       "</style>\n",
       "<table border=\"1\" class=\"dataframe\">\n",
       "  <thead>\n",
       "    <tr style=\"text-align: right;\">\n",
       "      <th></th>\n",
       "      <th>Unnamed: 0</th>\n",
       "      <th>gender</th>\n",
       "      <th>age</th>\n",
       "      <th>employment_status</th>\n",
       "      <th>watching</th>\n",
       "    </tr>\n",
       "  </thead>\n",
       "  <tbody>\n",
       "    <tr>\n",
       "      <th>0</th>\n",
       "      <td>0</td>\n",
       "      <td>M</td>\n",
       "      <td>21</td>\n",
       "      <td>student</td>\n",
       "      <td>yes</td>\n",
       "    </tr>\n",
       "    <tr>\n",
       "      <th>1</th>\n",
       "      <td>1</td>\n",
       "      <td>M</td>\n",
       "      <td>30</td>\n",
       "      <td>working</td>\n",
       "      <td>yes</td>\n",
       "    </tr>\n",
       "    <tr>\n",
       "      <th>2</th>\n",
       "      <td>2</td>\n",
       "      <td>F</td>\n",
       "      <td>26</td>\n",
       "      <td>working</td>\n",
       "      <td>yes</td>\n",
       "    </tr>\n",
       "    <tr>\n",
       "      <th>3</th>\n",
       "      <td>3</td>\n",
       "      <td>F</td>\n",
       "      <td>21</td>\n",
       "      <td>student</td>\n",
       "      <td>no</td>\n",
       "    </tr>\n",
       "    <tr>\n",
       "      <th>4</th>\n",
       "      <td>4</td>\n",
       "      <td>M</td>\n",
       "      <td>33</td>\n",
       "      <td>working</td>\n",
       "      <td>yes</td>\n",
       "    </tr>\n",
       "    <tr>\n",
       "      <th>5</th>\n",
       "      <td>5</td>\n",
       "      <td>M</td>\n",
       "      <td>30</td>\n",
       "      <td>working</td>\n",
       "      <td>yes</td>\n",
       "    </tr>\n",
       "    <tr>\n",
       "      <th>6</th>\n",
       "      <td>6</td>\n",
       "      <td>F</td>\n",
       "      <td>28</td>\n",
       "      <td>working</td>\n",
       "      <td>yes</td>\n",
       "    </tr>\n",
       "    <tr>\n",
       "      <th>7</th>\n",
       "      <td>7</td>\n",
       "      <td>M</td>\n",
       "      <td>19</td>\n",
       "      <td>student</td>\n",
       "      <td>no</td>\n",
       "    </tr>\n",
       "    <tr>\n",
       "      <th>8</th>\n",
       "      <td>8</td>\n",
       "      <td>F</td>\n",
       "      <td>31</td>\n",
       "      <td>working</td>\n",
       "      <td>no</td>\n",
       "    </tr>\n",
       "    <tr>\n",
       "      <th>9</th>\n",
       "      <td>9</td>\n",
       "      <td>M</td>\n",
       "      <td>27</td>\n",
       "      <td>working</td>\n",
       "      <td>no</td>\n",
       "    </tr>\n",
       "    <tr>\n",
       "      <th>10</th>\n",
       "      <td>10</td>\n",
       "      <td>M</td>\n",
       "      <td>36</td>\n",
       "      <td>working</td>\n",
       "      <td>no</td>\n",
       "    </tr>\n",
       "    <tr>\n",
       "      <th>11</th>\n",
       "      <td>11</td>\n",
       "      <td>M</td>\n",
       "      <td>37</td>\n",
       "      <td>working</td>\n",
       "      <td>no</td>\n",
       "    </tr>\n",
       "    <tr>\n",
       "      <th>12</th>\n",
       "      <td>12</td>\n",
       "      <td>M</td>\n",
       "      <td>32</td>\n",
       "      <td>working</td>\n",
       "      <td>no</td>\n",
       "    </tr>\n",
       "    <tr>\n",
       "      <th>13</th>\n",
       "      <td>13</td>\n",
       "      <td>F</td>\n",
       "      <td>36</td>\n",
       "      <td>working</td>\n",
       "      <td>yes</td>\n",
       "    </tr>\n",
       "    <tr>\n",
       "      <th>14</th>\n",
       "      <td>14</td>\n",
       "      <td>F</td>\n",
       "      <td>18</td>\n",
       "      <td>student</td>\n",
       "      <td>yes</td>\n",
       "    </tr>\n",
       "    <tr>\n",
       "      <th>15</th>\n",
       "      <td>15</td>\n",
       "      <td>M</td>\n",
       "      <td>36</td>\n",
       "      <td>working</td>\n",
       "      <td>yes</td>\n",
       "    </tr>\n",
       "    <tr>\n",
       "      <th>16</th>\n",
       "      <td>16</td>\n",
       "      <td>F</td>\n",
       "      <td>22</td>\n",
       "      <td>working</td>\n",
       "      <td>yes</td>\n",
       "    </tr>\n",
       "    <tr>\n",
       "      <th>17</th>\n",
       "      <td>17</td>\n",
       "      <td>M</td>\n",
       "      <td>26</td>\n",
       "      <td>working</td>\n",
       "      <td>yes</td>\n",
       "    </tr>\n",
       "    <tr>\n",
       "      <th>18</th>\n",
       "      <td>18</td>\n",
       "      <td>F</td>\n",
       "      <td>34</td>\n",
       "      <td>working</td>\n",
       "      <td>no</td>\n",
       "    </tr>\n",
       "    <tr>\n",
       "      <th>19</th>\n",
       "      <td>19</td>\n",
       "      <td>M</td>\n",
       "      <td>26</td>\n",
       "      <td>working</td>\n",
       "      <td>yes</td>\n",
       "    </tr>\n",
       "    <tr>\n",
       "      <th>20</th>\n",
       "      <td>20</td>\n",
       "      <td>M</td>\n",
       "      <td>33</td>\n",
       "      <td>working</td>\n",
       "      <td>no</td>\n",
       "    </tr>\n",
       "    <tr>\n",
       "      <th>21</th>\n",
       "      <td>21</td>\n",
       "      <td>F</td>\n",
       "      <td>24</td>\n",
       "      <td>working</td>\n",
       "      <td>yes</td>\n",
       "    </tr>\n",
       "    <tr>\n",
       "      <th>22</th>\n",
       "      <td>22</td>\n",
       "      <td>M</td>\n",
       "      <td>29</td>\n",
       "      <td>working</td>\n",
       "      <td>no</td>\n",
       "    </tr>\n",
       "    <tr>\n",
       "      <th>23</th>\n",
       "      <td>23</td>\n",
       "      <td>F</td>\n",
       "      <td>26</td>\n",
       "      <td>working</td>\n",
       "      <td>no</td>\n",
       "    </tr>\n",
       "    <tr>\n",
       "      <th>24</th>\n",
       "      <td>24</td>\n",
       "      <td>F</td>\n",
       "      <td>36</td>\n",
       "      <td>working</td>\n",
       "      <td>no</td>\n",
       "    </tr>\n",
       "    <tr>\n",
       "      <th>25</th>\n",
       "      <td>25</td>\n",
       "      <td>F</td>\n",
       "      <td>26</td>\n",
       "      <td>working</td>\n",
       "      <td>yes</td>\n",
       "    </tr>\n",
       "    <tr>\n",
       "      <th>26</th>\n",
       "      <td>26</td>\n",
       "      <td>M</td>\n",
       "      <td>22</td>\n",
       "      <td>working</td>\n",
       "      <td>yes</td>\n",
       "    </tr>\n",
       "    <tr>\n",
       "      <th>27</th>\n",
       "      <td>27</td>\n",
       "      <td>F</td>\n",
       "      <td>24</td>\n",
       "      <td>working</td>\n",
       "      <td>yes</td>\n",
       "    </tr>\n",
       "    <tr>\n",
       "      <th>28</th>\n",
       "      <td>28</td>\n",
       "      <td>F</td>\n",
       "      <td>37</td>\n",
       "      <td>working</td>\n",
       "      <td>yes</td>\n",
       "    </tr>\n",
       "    <tr>\n",
       "      <th>29</th>\n",
       "      <td>29</td>\n",
       "      <td>M</td>\n",
       "      <td>33</td>\n",
       "      <td>working</td>\n",
       "      <td>no</td>\n",
       "    </tr>\n",
       "    <tr>\n",
       "      <th>30</th>\n",
       "      <td>30</td>\n",
       "      <td>F</td>\n",
       "      <td>21</td>\n",
       "      <td>student</td>\n",
       "      <td>yes</td>\n",
       "    </tr>\n",
       "    <tr>\n",
       "      <th>31</th>\n",
       "      <td>31</td>\n",
       "      <td>M</td>\n",
       "      <td>19</td>\n",
       "      <td>student</td>\n",
       "      <td>no</td>\n",
       "    </tr>\n",
       "    <tr>\n",
       "      <th>32</th>\n",
       "      <td>32</td>\n",
       "      <td>F</td>\n",
       "      <td>19</td>\n",
       "      <td>student</td>\n",
       "      <td>yes</td>\n",
       "    </tr>\n",
       "    <tr>\n",
       "      <th>33</th>\n",
       "      <td>33</td>\n",
       "      <td>M</td>\n",
       "      <td>35</td>\n",
       "      <td>working</td>\n",
       "      <td>no</td>\n",
       "    </tr>\n",
       "    <tr>\n",
       "      <th>34</th>\n",
       "      <td>34</td>\n",
       "      <td>M</td>\n",
       "      <td>23</td>\n",
       "      <td>working</td>\n",
       "      <td>yes</td>\n",
       "    </tr>\n",
       "    <tr>\n",
       "      <th>35</th>\n",
       "      <td>35</td>\n",
       "      <td>F</td>\n",
       "      <td>26</td>\n",
       "      <td>working</td>\n",
       "      <td>yes</td>\n",
       "    </tr>\n",
       "    <tr>\n",
       "      <th>36</th>\n",
       "      <td>36</td>\n",
       "      <td>M</td>\n",
       "      <td>26</td>\n",
       "      <td>working</td>\n",
       "      <td>yes</td>\n",
       "    </tr>\n",
       "    <tr>\n",
       "      <th>37</th>\n",
       "      <td>37</td>\n",
       "      <td>M</td>\n",
       "      <td>27</td>\n",
       "      <td>working</td>\n",
       "      <td>yes</td>\n",
       "    </tr>\n",
       "    <tr>\n",
       "      <th>38</th>\n",
       "      <td>38</td>\n",
       "      <td>F</td>\n",
       "      <td>38</td>\n",
       "      <td>working</td>\n",
       "      <td>yes</td>\n",
       "    </tr>\n",
       "    <tr>\n",
       "      <th>39</th>\n",
       "      <td>39</td>\n",
       "      <td>M</td>\n",
       "      <td>18</td>\n",
       "      <td>student</td>\n",
       "      <td>no</td>\n",
       "    </tr>\n",
       "    <tr>\n",
       "      <th>40</th>\n",
       "      <td>40</td>\n",
       "      <td>M</td>\n",
       "      <td>28</td>\n",
       "      <td>working</td>\n",
       "      <td>no</td>\n",
       "    </tr>\n",
       "    <tr>\n",
       "      <th>41</th>\n",
       "      <td>41</td>\n",
       "      <td>M</td>\n",
       "      <td>24</td>\n",
       "      <td>working</td>\n",
       "      <td>no</td>\n",
       "    </tr>\n",
       "    <tr>\n",
       "      <th>42</th>\n",
       "      <td>42</td>\n",
       "      <td>F</td>\n",
       "      <td>31</td>\n",
       "      <td>working</td>\n",
       "      <td>no</td>\n",
       "    </tr>\n",
       "    <tr>\n",
       "      <th>43</th>\n",
       "      <td>43</td>\n",
       "      <td>F</td>\n",
       "      <td>31</td>\n",
       "      <td>working</td>\n",
       "      <td>yes</td>\n",
       "    </tr>\n",
       "    <tr>\n",
       "      <th>44</th>\n",
       "      <td>44</td>\n",
       "      <td>M</td>\n",
       "      <td>27</td>\n",
       "      <td>working</td>\n",
       "      <td>no</td>\n",
       "    </tr>\n",
       "    <tr>\n",
       "      <th>45</th>\n",
       "      <td>45</td>\n",
       "      <td>M</td>\n",
       "      <td>33</td>\n",
       "      <td>working</td>\n",
       "      <td>no</td>\n",
       "    </tr>\n",
       "    <tr>\n",
       "      <th>46</th>\n",
       "      <td>46</td>\n",
       "      <td>M</td>\n",
       "      <td>35</td>\n",
       "      <td>working</td>\n",
       "      <td>no</td>\n",
       "    </tr>\n",
       "    <tr>\n",
       "      <th>47</th>\n",
       "      <td>47</td>\n",
       "      <td>F</td>\n",
       "      <td>18</td>\n",
       "      <td>student</td>\n",
       "      <td>no</td>\n",
       "    </tr>\n",
       "    <tr>\n",
       "      <th>48</th>\n",
       "      <td>48</td>\n",
       "      <td>M</td>\n",
       "      <td>39</td>\n",
       "      <td>working</td>\n",
       "      <td>yes</td>\n",
       "    </tr>\n",
       "    <tr>\n",
       "      <th>49</th>\n",
       "      <td>49</td>\n",
       "      <td>F</td>\n",
       "      <td>26</td>\n",
       "      <td>working</td>\n",
       "      <td>no</td>\n",
       "    </tr>\n",
       "  </tbody>\n",
       "</table>\n",
       "</div>"
      ],
      "text/plain": [
       "    Unnamed: 0 gender  age employment_status watching\n",
       "0            0      M   21           student      yes\n",
       "1            1      M   30           working      yes\n",
       "2            2      F   26           working      yes\n",
       "3            3      F   21           student       no\n",
       "4            4      M   33           working      yes\n",
       "5            5      M   30           working      yes\n",
       "6            6      F   28           working      yes\n",
       "7            7      M   19           student       no\n",
       "8            8      F   31           working       no\n",
       "9            9      M   27           working       no\n",
       "10          10      M   36           working       no\n",
       "11          11      M   37           working       no\n",
       "12          12      M   32           working       no\n",
       "13          13      F   36           working      yes\n",
       "14          14      F   18           student      yes\n",
       "15          15      M   36           working      yes\n",
       "16          16      F   22           working      yes\n",
       "17          17      M   26           working      yes\n",
       "18          18      F   34           working       no\n",
       "19          19      M   26           working      yes\n",
       "20          20      M   33           working       no\n",
       "21          21      F   24           working      yes\n",
       "22          22      M   29           working       no\n",
       "23          23      F   26           working       no\n",
       "24          24      F   36           working       no\n",
       "25          25      F   26           working      yes\n",
       "26          26      M   22           working      yes\n",
       "27          27      F   24           working      yes\n",
       "28          28      F   37           working      yes\n",
       "29          29      M   33           working       no\n",
       "30          30      F   21           student      yes\n",
       "31          31      M   19           student       no\n",
       "32          32      F   19           student      yes\n",
       "33          33      M   35           working       no\n",
       "34          34      M   23           working      yes\n",
       "35          35      F   26           working      yes\n",
       "36          36      M   26           working      yes\n",
       "37          37      M   27           working      yes\n",
       "38          38      F   38           working      yes\n",
       "39          39      M   18           student       no\n",
       "40          40      M   28           working       no\n",
       "41          41      M   24           working       no\n",
       "42          42      F   31           working       no\n",
       "43          43      F   31           working      yes\n",
       "44          44      M   27           working       no\n",
       "45          45      M   33           working       no\n",
       "46          46      M   35           working       no\n",
       "47          47      F   18           student       no\n",
       "48          48      M   39           working      yes\n",
       "49          49      F   26           working       no"
      ]
     },
     "execution_count": 3,
     "metadata": {},
     "output_type": "execute_result"
    }
   ],
   "source": [
    "films"
   ]
  },
  {
   "cell_type": "code",
   "execution_count": 4,
   "metadata": {
    "collapsed": true
   },
   "outputs": [
    {
     "name": "stdout",
     "output_type": "stream",
     "text": [
      "Viewers who watched the movie:26\n",
      "Viewers who did not watched the movie:24\n"
     ]
    }
   ],
   "source": [
    "print(\"Viewers who watched the movie:{}\".format(len(films[films['watching'] == 'yes'])))\n",
    "print(\"Viewers who did not watched the movie:{}\".format(len(films[films['watching'] == 'no'])))"
   ]
  },
  {
   "cell_type": "markdown",
   "metadata": {
    "collapsed": true
   },
   "source": [
    "We'll start with split on employment status"
   ]
  },
  {
   "cell_type": "code",
   "execution_count": 5,
   "metadata": {
    "collapsed": false
   },
   "outputs": [
    {
     "name": "stdout",
     "output_type": "stream",
     "text": [
      "Viewers who work:41\n",
      "Viewers who are student:9\n"
     ]
    }
   ],
   "source": [
    "print(\"Viewers who work:{}\".format(len(films[films['employment_status'] == 'working'])))\n",
    "print(\"Viewers who are student:{}\".format(len(films[films['employment_status'] == 'student'])))"
   ]
  },
  {
   "cell_type": "code",
   "execution_count": 6,
   "metadata": {},
   "outputs": [
    {
     "name": "stdout",
     "output_type": "stream",
     "text": [
      "Working viwers who watched the movie:22\n",
      "Working viwers who did not watch the movie:19\n"
     ]
    }
   ],
   "source": [
    "working_watched = films[films['employment_status'] == 'working']\n",
    "print(\"Working viwers who watched the movie:{}\".format(len(working_watched[working_watched['watching'] == 'yes'])))\n",
    "print(\"Working viwers who did not watch the movie:{}\".format(len(working_watched[working_watched['watching'] == 'no'])))"
   ]
  },
  {
   "cell_type": "code",
   "execution_count": 7,
   "metadata": {},
   "outputs": [
    {
     "name": "stdout",
     "output_type": "stream",
     "text": [
      "Students who watched the movie:4\n",
      "Students who did not watch the movie:5\n"
     ]
    }
   ],
   "source": [
    "student_watched = films[films['employment_status'] == 'student']\n",
    "print(\"Students who watched the movie:{}\".format(len(student_watched[student_watched['watching'] == 'yes'])))\n",
    "print(\"Students who did not watch the movie:{}\".format(len(student_watched[student_watched['watching'] == 'no'])))"
   ]
  },
  {
   "cell_type": "markdown",
   "metadata": {},
   "source": [
    "- Below are the calculations for probabilities:"
   ]
  },
  {
   "cell_type": "markdown",
   "metadata": {},
   "source": [
    "$$student\\;watched\\;yes = \\frac{students\\;who\\;watched\\;movie}{total\\;students}$$\n",
    "\n",
    "$$working\\;watched\\;yes = \\frac{working\\;professionals\\;who\\;watched\\;movie}{total\\;working}$$"
   ]
  },
  {
   "cell_type": "code",
   "execution_count": 8,
   "metadata": {},
   "outputs": [
    {
     "name": "stdout",
     "output_type": "stream",
     "text": [
      "Probability of students that watched:0.537\n",
      "Probability of working people that watched:0.444\n"
     ]
    }
   ],
   "source": [
    "student_watched_yes = (22/float(41))\n",
    "working_watched_yes = (4/float(9))\n",
    "print(\"Probability of students that watched:{:.3f}\".format(student_watched_yes))\n",
    "print(\"Probability of working people that watched:{:.3f}\".format(working_watched_yes))"
   ]
  },
  {
   "cell_type": "markdown",
   "metadata": {
    "collapsed": true
   },
   "source": [
    "- Below are the calculations for gini scores:"
   ]
  },
  {
   "cell_type": "markdown",
   "metadata": {},
   "source": [
    "$$gini(student)\\;=\\;(student\\;watched\\;yes)^{2}\\;+\\;(1-student\\;watched\\;yes)^{2}$$\n",
    "\n",
    "$$gini(working)\\;=\\;(working\\;watched\\;yes)^{2}\\;+\\;(1-working\\;watched\\;yes)^{2}$$"
   ]
  },
  {
   "cell_type": "code",
   "execution_count": 9,
   "metadata": {},
   "outputs": [
    {
     "name": "stdout",
     "output_type": "stream",
     "text": [
      "Gini(student):0.503\n"
     ]
    }
   ],
   "source": [
    "subnode_student = (student_watched_yes)*(student_watched_yes) + (1-student_watched_yes)*(1-student_watched_yes)\n",
    "print(\"Gini(student):{:.3f}\".format(subnode_student))"
   ]
  },
  {
   "cell_type": "code",
   "execution_count": 10,
   "metadata": {},
   "outputs": [
    {
     "name": "stdout",
     "output_type": "stream",
     "text": [
      "Gini(working):0.506173\n"
     ]
    }
   ],
   "source": [
    "subnode_working = (working_watched_yes)*(working_watched_yes) + (1-working_watched_yes)*(1-working_watched_yes)\n",
    "print(\"Gini(working):{:3f}\".format(subnode_working))"
   ]
  },
  {
   "cell_type": "markdown",
   "metadata": {},
   "source": [
    "- Finding the `weighted gini` for employment split:"
   ]
  },
  {
   "cell_type": "markdown",
   "metadata": {},
   "source": [
    "$$weighted\\;gini(employment)\\;=\\;\\frac{working}{total}x(gini(working))\\;+\\;\\frac{student}{total}x(gini(student))$$"
   ]
  },
  {
   "cell_type": "code",
   "execution_count": 11,
   "metadata": {},
   "outputs": [
    {
     "name": "stdout",
     "output_type": "stream",
     "text": [
      "Weighted Gini(employment):0.506\n"
     ]
    }
   ],
   "source": [
    "calculated_wt_emp = (41/float(50))*subnode_working + (9/float(50))*subnode_student\n",
    "print(\"Weighted Gini(employment):{:.3f}\".format(calculated_wt_emp))"
   ]
  },
  {
   "cell_type": "markdown",
   "metadata": {},
   "source": [
    "__Split on gender__"
   ]
  },
  {
   "cell_type": "code",
   "execution_count": 12,
   "metadata": {},
   "outputs": [
    {
     "name": "stdout",
     "output_type": "stream",
     "text": [
      "Males who watch movies:28\n",
      "Females who watch movies:22\n"
     ]
    }
   ],
   "source": [
    "print(\"Males who watch movies:{}\".format(len(films[films['gender'] == 'M'])))\n",
    "print(\"Females who watch movies:{}\".format(len(films[films['gender'] == 'F'])))"
   ]
  },
  {
   "cell_type": "code",
   "execution_count": 13,
   "metadata": {},
   "outputs": [
    {
     "name": "stdout",
     "output_type": "stream",
     "text": [
      "Males who have watched Dunkirk:12\n",
      "Females who have watched Dunkirk:14\n"
     ]
    }
   ],
   "source": [
    "watched_yes = films[films['watching'] == 'yes']\n",
    "print(\"Males who have watched Dunkirk:{}\".format(len(watched_yes[watched_yes['gender'] == 'M'])))\n",
    "print(\"Females who have watched Dunkirk:{}\".format(len(watched_yes[watched_yes['gender'] == 'F'])))"
   ]
  },
  {
   "cell_type": "markdown",
   "metadata": {},
   "source": [
    "- Calculating probabilities:"
   ]
  },
  {
   "cell_type": "markdown",
   "metadata": {},
   "source": [
    "$$males\\;watched\\;yes = \\frac{males\\;who\\;watched\\;movie}{total\\;males}$$\n",
    "\n",
    "$$females\\;watched\\;yes = \\frac{females\\;who\\;watched\\;movie}{total\\;females}$$"
   ]
  },
  {
   "cell_type": "code",
   "execution_count": 14,
   "metadata": {
    "collapsed": true
   },
   "outputs": [],
   "source": [
    "male_watched_yes = (12/float(28))\n",
    "female_watched_yes = (14/float(22))"
   ]
  },
  {
   "cell_type": "code",
   "execution_count": 15,
   "metadata": {},
   "outputs": [
    {
     "name": "stdout",
     "output_type": "stream",
     "text": [
      "Probability of males that watched Dunkirk:0.429\n",
      "Probability of males that watched Dunkirk:0.636\n"
     ]
    }
   ],
   "source": [
    "print(\"Probability of males that watched Dunkirk:{:.3f}\".format(male_watched_yes))\n",
    "print(\"Probability of males that watched Dunkirk:{:.3f}\".format(female_watched_yes))"
   ]
  },
  {
   "cell_type": "markdown",
   "metadata": {},
   "source": [
    "- Calculating the `gini` values for `males` & `females`:"
   ]
  },
  {
   "cell_type": "markdown",
   "metadata": {},
   "source": [
    "$$gini(males)\\;=\\;(males\\;watched\\;yes)^{2}\\;+\\;(1-males\\;watched\\;yes)^{2}$$\n",
    "\n",
    "$$gini(females)\\;=\\;(females\\;watched\\;yes)^{2}\\;+\\;(1-females\\;watched\\;yes)^{2}$$"
   ]
  },
  {
   "cell_type": "code",
   "execution_count": 16,
   "metadata": {
    "collapsed": true
   },
   "outputs": [],
   "source": [
    "subnode_male = (male_watched_yes)*(male_watched_yes) + (1-male_watched_yes)*(1-male_watched_yes)\n",
    "subnode_female = (female_watched_yes)*(female_watched_yes) + (1-female_watched_yes)*(1-female_watched_yes)"
   ]
  },
  {
   "cell_type": "code",
   "execution_count": 17,
   "metadata": {},
   "outputs": [
    {
     "name": "stdout",
     "output_type": "stream",
     "text": [
      "Gini(female):0.537\n",
      "Gini(male):0.510\n"
     ]
    }
   ],
   "source": [
    "print(\"Gini(female):{:.3f}\".format(subnode_female))\n",
    "print(\"Gini(male):{:.3f}\".format(subnode_male))"
   ]
  },
  {
   "cell_type": "markdown",
   "metadata": {},
   "source": [
    "- Calculating the `weighted gini` for `gender` split:"
   ]
  },
  {
   "cell_type": "markdown",
   "metadata": {},
   "source": [
    "$$weighted\\;gini(gender)\\;=\\;\\frac{males}{total}x(gini(males))\\;+\\;\\frac{females}{total}x(gini(females))$$"
   ]
  },
  {
   "cell_type": "code",
   "execution_count": 18,
   "metadata": {},
   "outputs": [
    {
     "name": "stdout",
     "output_type": "stream",
     "text": [
      "Weighted Gini:0.505\n"
     ]
    }
   ],
   "source": [
    "calculated_wt_gender = (28/float(50))*subnode_working + (22/float(50))*subnode_student\n",
    "print(\"Weighted Gini:{:.3f}\".format(calculated_wt_gender))"
   ]
  },
  {
   "cell_type": "markdown",
   "metadata": {},
   "source": [
    "__Since `weighted gini(gender) < weighted gini(employment)`, the node split will take on `employment`.__"
   ]
  },
  {
   "cell_type": "markdown",
   "metadata": {},
   "source": [
    "### Task: Calculate the `weighted gini index` for `age split`. Would it be more for age?"
   ]
  },
  {
   "cell_type": "code",
   "execution_count": null,
   "metadata": {
    "collapsed": true
   },
   "outputs": [],
   "source": []
  },
  {
   "cell_type": "markdown",
   "metadata": {},
   "source": [
    "### Chi-squared"
   ]
  },
  {
   "cell_type": "markdown",
   "metadata": {},
   "source": [
    "Calculate Chi-square for individual node by calculating the deviation for Success and Failure both\n",
    "\n",
    "Calculated Chi-square of Split using Sum of all Chi-square of success and Failure of each node of the split"
   ]
  },
  {
   "cell_type": "markdown",
   "metadata": {},
   "source": [
    "__Split on Gender__"
   ]
  },
  {
   "cell_type": "markdown",
   "metadata": {},
   "source": [
    "- __Female Node__"
   ]
  },
  {
   "cell_type": "code",
   "execution_count": 19,
   "metadata": {},
   "outputs": [
    {
     "name": "stdout",
     "output_type": "stream",
     "text": [
      "Total number of females that watch films:22\n",
      "Total number of males that watch films:28\n"
     ]
    }
   ],
   "source": [
    "women_total = films[films['gender'] == 'F']\n",
    "men_total = films[films['gender'] == 'M']\n",
    "print(\"Total number of females that watch films:{}\".format(len(women_total)))\n",
    "print(\"Total number of males that watch films:{}\".format(len(men_total)))"
   ]
  },
  {
   "cell_type": "code",
   "execution_count": 20,
   "metadata": {},
   "outputs": [
    {
     "name": "stdout",
     "output_type": "stream",
     "text": [
      "Women that have watched Dunkirk:14\n",
      "Women that have not watched Dunkirk:8\n"
     ]
    }
   ],
   "source": [
    "watch_movie_female = women_total[women_total['watching'] == 'yes']\n",
    "not_watch_movie_female = women_total[women_total['watching'] == 'no']\n",
    "print(\"Women that have watched Dunkirk:{}\".format(len(watch_movie_female)))\n",
    "print(\"Women that have not watched Dunkirk:{}\".format(len(not_watch_movie_female)))"
   ]
  },
  {
   "cell_type": "code",
   "execution_count": 21,
   "metadata": {},
   "outputs": [
    {
     "name": "stdout",
     "output_type": "stream",
     "text": [
      "Total number of women expected to watch the movie (same as above):11\n",
      "Total number of women not expected to watch the movie (50% probability, half of women population):11\n"
     ]
    }
   ],
   "source": [
    "expected_watch = len(women_total)/2\n",
    "not_expected_watch = len(women_total)/2\n",
    "print(\"Total number of women expected to watch the movie (same as above):{}\".format(expected_watch))\n",
    "print(\"Total number of women not expected to watch the movie (50% probability, half of women population):{}\".format(not_expected_watch))"
   ]
  },
  {
   "cell_type": "code",
   "execution_count": 22,
   "metadata": {},
   "outputs": [
    {
     "name": "stdout",
     "output_type": "stream",
     "text": [
      "Deviation(Actual-Expected) of the women watching movie:3\n",
      "Deviation(Actual-Expected) of women not watching the movie:-3\n"
     ]
    }
   ],
   "source": [
    "deviation_female = (len(watch_movie_female) - expected_watch)\n",
    "deviation_female_not = (len(not_watch_movie_female) - not_expected_watch)\n",
    "print(\"Deviation(Actual-Expected) of the women watching movie:{}\".format(deviation_female))\n",
    "print(\"Deviation(Actual-Expected) of women not watching the movie:{}\".format(deviation_female_not))"
   ]
  },
  {
   "cell_type": "markdown",
   "metadata": {},
   "source": [
    "- Formula to calculate the `chi-square`:"
   ]
  },
  {
   "cell_type": "markdown",
   "metadata": {},
   "source": [
    "$$chi-square\\;=\\;\\sqrt(\\frac{(actual\\;-\\;expected)^2}{expected})$$"
   ]
  },
  {
   "cell_type": "code",
   "execution_count": 23,
   "metadata": {},
   "outputs": [
    {
     "name": "stdout",
     "output_type": "stream",
     "text": [
      "Chi-squared value(female watching):0.801783725737\n",
      "Chi-squared value(female not watching):1.06066017178\n"
     ]
    }
   ],
   "source": [
    "chi_female = np.sqrt((deviation_female)*(deviation_female)/float(len(watch_movie_female)))\n",
    "print(\"Chi-squared value(female watching):{}\".format(chi_female))\n",
    "chi_female_not = np.sqrt((deviation_female_not)*(deviation_female_not)/float(len(not_watch_movie_female)))\n",
    "print(\"Chi-squared value(female not watching):{}\".format(chi_female_not))"
   ]
  },
  {
   "cell_type": "markdown",
   "metadata": {},
   "source": [
    "- Male Node\n",
    "\n",
    "    * Same needs to be followed for `male node`."
   ]
  },
  {
   "cell_type": "code",
   "execution_count": 24,
   "metadata": {},
   "outputs": [
    {
     "name": "stdout",
     "output_type": "stream",
     "text": [
      "Total men that watch films:28\n"
     ]
    }
   ],
   "source": [
    "men_total = films[films['gender'] == 'M']\n",
    "print(\"Total men that watch films:{}\".format(len(men_total)))"
   ]
  },
  {
   "cell_type": "code",
   "execution_count": 25,
   "metadata": {},
   "outputs": [
    {
     "name": "stdout",
     "output_type": "stream",
     "text": [
      "Women that have watched Dunkirk:12\n",
      "Women that have not watched Dunkirk:16\n",
      "\n",
      "\n"
     ]
    }
   ],
   "source": [
    "watch_movie_male = men_total[men_total['watching'] == 'yes']\n",
    "not_watch_movie_male = men_total[men_total['watching'] == 'no']\n",
    "\n",
    "print(\"Women that have watched Dunkirk:{}\".format(len(watch_movie_male)))\n",
    "print(\"Women that have not watched Dunkirk:{}\".format(len(not_watch_movie_male)))\n",
    "print(\"\\n\")"
   ]
  },
  {
   "cell_type": "code",
   "execution_count": 26,
   "metadata": {},
   "outputs": [
    {
     "name": "stdout",
     "output_type": "stream",
     "text": [
      "Total number of men expected to watch the movie (same as above):14\n",
      "Total number of men not expected to watch the movie (same as above):14\n",
      "\n",
      "\n"
     ]
    }
   ],
   "source": [
    "expected_watch = len(men_total)/2\n",
    "not_expected_watch = len(men_total)/2\n",
    "print(\"Total number of men expected to watch the movie (same as above):{}\".format(expected_watch))\n",
    "print(\"Total number of men not expected to watch the movie (same as above):{}\".format(not_expected_watch))\n",
    "print(\"\\n\")"
   ]
  },
  {
   "cell_type": "code",
   "execution_count": 27,
   "metadata": {},
   "outputs": [
    {
     "name": "stdout",
     "output_type": "stream",
     "text": [
      "Deviation(Actual-Expected) of the men watching movie:-2\n",
      "Deviation(Actual-Expected) of the men not watching movie:2\n",
      "\n",
      "\n"
     ]
    }
   ],
   "source": [
    "deviation_male = (len(watch_movie_male) - expected_watch)\n",
    "deviation_male_not = (len(not_watch_movie_male) - not_expected_watch)\n",
    "print(\"Deviation(Actual-Expected) of the men watching movie:{}\".format(deviation_male))\n",
    "print(\"Deviation(Actual-Expected) of the men not watching movie:{}\".format(deviation_male_not))\n",
    "print(\"\\n\")"
   ]
  },
  {
   "cell_type": "code",
   "execution_count": 28,
   "metadata": {},
   "outputs": [
    {
     "name": "stdout",
     "output_type": "stream",
     "text": [
      "Chi-squared value(male watching):0.57735026919\n",
      "Chi-squared value(male not watching):0.5\n"
     ]
    }
   ],
   "source": [
    "chi_male = np.sqrt((deviation_male)*(deviation_male)/float(len(watch_movie_male)))\n",
    "chi_male_not = np.sqrt((deviation_male_not)*(deviation_male_not)/float(len(not_watch_movie_male)))\n",
    "print(\"Chi-squared value(male watching):{}\".format(chi_male))\n",
    "print(\"Chi-squared value(male not watching):{}\".format(chi_male_not))"
   ]
  },
  {
   "cell_type": "code",
   "execution_count": 29,
   "metadata": {},
   "outputs": [
    {
     "name": "stdout",
     "output_type": "stream",
     "text": [
      "Total weighted chi for gender:2.940\n"
     ]
    }
   ],
   "source": [
    "total_chi_gender = chi_female + chi_female_not + chi_male + chi_male_not\n",
    "print(\"Total weighted chi for gender:{:.3f}\".format(total_chi_gender))"
   ]
  },
  {
   "cell_type": "markdown",
   "metadata": {},
   "source": [
    "__Split on employment status__"
   ]
  },
  {
   "cell_type": "markdown",
   "metadata": {},
   "source": [
    "- Working node\n",
    "\n",
    "    * Continuing same calculations for `working` & `employment` nodes.\n",
    "    * Get the total chi-squared value & compare."
   ]
  },
  {
   "cell_type": "code",
   "execution_count": 30,
   "metadata": {},
   "outputs": [
    {
     "name": "stdout",
     "output_type": "stream",
     "text": [
      "Total number of working people watching movies:41\n"
     ]
    }
   ],
   "source": [
    "working_total = films[films['employment_status'] == 'working']\n",
    "print(\"Total number of working people watching movies:{}\".format(len(working_total)))"
   ]
  },
  {
   "cell_type": "code",
   "execution_count": 31,
   "metadata": {},
   "outputs": [
    {
     "name": "stdout",
     "output_type": "stream",
     "text": [
      "Total number of working people that watch films:22\n",
      "Total number of working people that do no watch films:19\n",
      "\n",
      "\n"
     ]
    }
   ],
   "source": [
    "watch_movie_working = working_total[working_total['watching'] == 'yes']\n",
    "not_watch_movie_working = working_total[working_total['watching'] == 'no']\n",
    "print(\"Total number of working people that watch films:{}\".format(len(watch_movie_working)))\n",
    "print(\"Total number of working people that do no watch films:{}\".format(len(not_watch_movie_working)))\n",
    "print(\"\\n\")"
   ]
  },
  {
   "cell_type": "code",
   "execution_count": 32,
   "metadata": {},
   "outputs": [
    {
     "name": "stdout",
     "output_type": "stream",
     "text": [
      "Total number of working people expected to watch the movie (same as above):20\n",
      "Total number of working people not expected to watch the movie (same as above):20\n",
      "\n",
      "\n"
     ]
    }
   ],
   "source": [
    "expected_watch = len(working_total)/2\n",
    "not_expected_watch = len(working_total)/2\n",
    "print(\"Total number of working people expected to watch the movie (same as above):{}\".format(expected_watch))\n",
    "print(\"Total number of working people not expected to watch the movie (same as above):{}\".format(not_expected_watch))\n",
    "print(\"\\n\")"
   ]
  },
  {
   "cell_type": "code",
   "execution_count": 33,
   "metadata": {},
   "outputs": [
    {
     "name": "stdout",
     "output_type": "stream",
     "text": [
      "Deviation(Actual-Expected) of the working member watching movie:2\n",
      "Deviation(Actual-Expected) of the working member not watching movie:-1\n",
      "\n",
      "\n"
     ]
    }
   ],
   "source": [
    "deviation_working = (len(watch_movie_working) - expected_watch)\n",
    "deviation_working_not = (len(not_watch_movie_working) - not_expected_watch)\n",
    "print(\"Deviation(Actual-Expected) of the working member watching movie:{}\".format(deviation_working))\n",
    "print(\"Deviation(Actual-Expected) of the working member not watching movie:{}\".format(deviation_working_not))\n",
    "print(\"\\n\")"
   ]
  },
  {
   "cell_type": "code",
   "execution_count": 34,
   "metadata": {},
   "outputs": [
    {
     "name": "stdout",
     "output_type": "stream",
     "text": [
      "Chi-squared value(working people watching):0.426401432711\n",
      "Chi-squared value(working people not watching):0.229415733871\n"
     ]
    }
   ],
   "source": [
    "chi_working = np.sqrt((deviation_working)*(deviation_working)/float(len(watch_movie_working)))\n",
    "chi_working_not = np.sqrt((deviation_working_not)*(deviation_working_not)/float(len(not_watch_movie_working)))\n",
    "print(\"Chi-squared value(working people watching):{}\".format(chi_working))\n",
    "print(\"Chi-squared value(working people not watching):{}\".format(chi_working_not))"
   ]
  },
  {
   "cell_type": "markdown",
   "metadata": {},
   "source": [
    "- Student node"
   ]
  },
  {
   "cell_type": "code",
   "execution_count": 35,
   "metadata": {},
   "outputs": [
    {
     "name": "stdout",
     "output_type": "stream",
     "text": [
      "Total number of student watching movies:9\n"
     ]
    }
   ],
   "source": [
    "student_total = films[films['employment_status'] == 'student']\n",
    "print(\"Total number of student watching movies:{}\".format(len(student_total)))"
   ]
  },
  {
   "cell_type": "code",
   "execution_count": 36,
   "metadata": {},
   "outputs": [
    {
     "name": "stdout",
     "output_type": "stream",
     "text": [
      "Total number of students that watch films:4\n",
      "Total number of students that do no watch films:5\n",
      "\n",
      "\n"
     ]
    }
   ],
   "source": [
    "watch_movie_student = student_total[student_total['watching'] == 'yes']\n",
    "not_watch_movie_student = student_total[student_total['watching'] == 'no']\n",
    "print(\"Total number of students that watch films:{}\".format(len(watch_movie_student)))\n",
    "print(\"Total number of students that do no watch films:{}\".format(len(not_watch_movie_student)))\n",
    "print(\"\\n\")"
   ]
  },
  {
   "cell_type": "code",
   "execution_count": 37,
   "metadata": {},
   "outputs": [
    {
     "name": "stdout",
     "output_type": "stream",
     "text": [
      "Total number of students expected to watch the movie (same as above):4\n",
      "Total number of students not expected to watch the movie (same as above):4\n",
      "\n",
      "\n"
     ]
    }
   ],
   "source": [
    "expected_watch = len(student_total)/2\n",
    "not_expected_watch = len(student_total)/2\n",
    "print(\"Total number of students expected to watch the movie (same as above):{}\".format(expected_watch))\n",
    "print(\"Total number of students not expected to watch the movie (same as above):{}\".format(not_expected_watch))\n",
    "print(\"\\n\")"
   ]
  },
  {
   "cell_type": "code",
   "execution_count": 38,
   "metadata": {
    "collapsed": true
   },
   "outputs": [],
   "source": [
    "deviation_student = (len(watch_movie_student) - expected_watch)\n",
    "deviation_student_not = (len(not_watch_movie_student) - not_expected_watch)"
   ]
  },
  {
   "cell_type": "code",
   "execution_count": 39,
   "metadata": {
    "collapsed": true
   },
   "outputs": [],
   "source": [
    "chi_student = np.sqrt((deviation_student)*(deviation_student)/float(len(watch_movie_student)))\n",
    "chi_student_not = np.sqrt((deviation_student_not)*(deviation_student_not)/float(len(not_watch_movie_student)))"
   ]
  },
  {
   "cell_type": "code",
   "execution_count": 40,
   "metadata": {
    "collapsed": true
   },
   "outputs": [],
   "source": [
    "total_chi_emp = chi_student + chi_student_not + chi_working + chi_working_not"
   ]
  },
  {
   "cell_type": "code",
   "execution_count": 41,
   "metadata": {},
   "outputs": [
    {
     "data": {
      "text/plain": [
       "1.1030307620817406"
      ]
     },
     "execution_count": 41,
     "metadata": {},
     "output_type": "execute_result"
    }
   ],
   "source": [
    "total_chi_emp"
   ]
  },
  {
   "cell_type": "markdown",
   "metadata": {},
   "source": [
    "__Chi in `gender` split is more than `employment status`__"
   ]
  },
  {
   "cell_type": "markdown",
   "metadata": {},
   "source": [
    "### Task: Calculate the `chi-squared` value for `age node`. Find out whether it is a good split or not."
   ]
  },
  {
   "cell_type": "code",
   "execution_count": null,
   "metadata": {
    "collapsed": true
   },
   "outputs": [],
   "source": []
  },
  {
   "cell_type": "markdown",
   "metadata": {},
   "source": [
    "### Entropy / Information Gain"
   ]
  },
  {
   "cell_type": "markdown",
   "metadata": {},
   "source": [
    "$$entropy = -p\\;x\\;log_{2}p\\;-q\\;x\\;log_{2}q$$"
   ]
  },
  {
   "cell_type": "markdown",
   "metadata": {},
   "source": [
    "Here p and q is probability of success and failure respectively in that node. Entropy is also used with categorical target variable. It chooses the split which has lowest entropy compared to parent node and other splits. The lesser the entropy, the better it is."
   ]
  },
  {
   "cell_type": "markdown",
   "metadata": {},
   "source": [
    "Calculate entropy of parent node\n",
    "\n",
    "Calculate entropy of each individual node of split and calculate weighted average of all sub-nodes available in split."
   ]
  },
  {
   "cell_type": "code",
   "execution_count": 42,
   "metadata": {
    "collapsed": true
   },
   "outputs": [],
   "source": [
    "# Calculating the parent entropy\n",
    "parent_entropy = -(26/float(50))*np.log2(26/float(50)) - (24/float(50))*np.log2(24/float(50))"
   ]
  },
  {
   "cell_type": "code",
   "execution_count": 43,
   "metadata": {},
   "outputs": [
    {
     "data": {
      "text/plain": [
       "0.99884553599520176"
      ]
     },
     "execution_count": 43,
     "metadata": {},
     "output_type": "execute_result"
    }
   ],
   "source": [
    "parent_entropy"
   ]
  },
  {
   "cell_type": "markdown",
   "metadata": {},
   "source": [
    "Almost, an impure node"
   ]
  },
  {
   "cell_type": "code",
   "execution_count": 44,
   "metadata": {
    "collapsed": true
   },
   "outputs": [],
   "source": [
    "#Female node entropy\n",
    "female_entropy = -(14/float(22))*np.log2(14/float(22)) - (8/float(22))*np.log2(8/float(22))"
   ]
  },
  {
   "cell_type": "code",
   "execution_count": 45,
   "metadata": {},
   "outputs": [
    {
     "data": {
      "text/plain": [
       "0.9456603046006401"
      ]
     },
     "execution_count": 45,
     "metadata": {},
     "output_type": "execute_result"
    }
   ],
   "source": [
    "female_entropy"
   ]
  },
  {
   "cell_type": "code",
   "execution_count": 46,
   "metadata": {
    "collapsed": true
   },
   "outputs": [],
   "source": [
    "#Male node entropy\n",
    "male_entropy = -(12/float(28))*np.log2(12/float(28)) - (16/float(28))*np.log2(16/float(28))"
   ]
  },
  {
   "cell_type": "code",
   "execution_count": 47,
   "metadata": {},
   "outputs": [
    {
     "data": {
      "text/plain": [
       "0.98522813603425152"
      ]
     },
     "execution_count": 47,
     "metadata": {},
     "output_type": "execute_result"
    }
   ],
   "source": [
    "male_entropy"
   ]
  },
  {
   "cell_type": "code",
   "execution_count": 48,
   "metadata": {
    "collapsed": true
   },
   "outputs": [],
   "source": [
    "#Weighted entropy for gender\n",
    "weighted_gender = (26/float(50))*male_entropy + (24/float(30))*female_entropy"
   ]
  },
  {
   "cell_type": "code",
   "execution_count": 49,
   "metadata": {},
   "outputs": [
    {
     "data": {
      "text/plain": [
       "1.268846874418323"
      ]
     },
     "execution_count": 49,
     "metadata": {},
     "output_type": "execute_result"
    }
   ],
   "source": [
    "weighted_gender"
   ]
  },
  {
   "cell_type": "code",
   "execution_count": 50,
   "metadata": {
    "collapsed": true
   },
   "outputs": [],
   "source": [
    "#Employment status == working (entropy)\n",
    "working_entropy = -(4/float(9))*np.log2(4/float(9)) - (5/float(9))*np.log2(5/float(9))"
   ]
  },
  {
   "cell_type": "code",
   "execution_count": 51,
   "metadata": {},
   "outputs": [
    {
     "data": {
      "text/plain": [
       "0.99107605983822222"
      ]
     },
     "execution_count": 51,
     "metadata": {},
     "output_type": "execute_result"
    }
   ],
   "source": [
    "working_entropy"
   ]
  },
  {
   "cell_type": "code",
   "execution_count": 52,
   "metadata": {
    "collapsed": true
   },
   "outputs": [],
   "source": [
    "#Employment status == student (entropy)\n",
    "student_entropy = -(22/float(41))*np.log2(22/float(41)) - (19/float(41))*np.log2(19/float(41))"
   ]
  },
  {
   "cell_type": "code",
   "execution_count": 53,
   "metadata": {},
   "outputs": [
    {
     "data": {
      "text/plain": [
       "0.99613448350957956"
      ]
     },
     "execution_count": 53,
     "metadata": {},
     "output_type": "execute_result"
    }
   ],
   "source": [
    "student_entropy"
   ]
  },
  {
   "cell_type": "code",
   "execution_count": 54,
   "metadata": {
    "collapsed": true
   },
   "outputs": [],
   "source": [
    "#Weighted entropy for employment status\n",
    "weighted_emp = (41/float(50))*working_entropy + (9/float(30))*student_entropy"
   ]
  },
  {
   "cell_type": "code",
   "execution_count": 55,
   "metadata": {},
   "outputs": [
    {
     "data": {
      "text/plain": [
       "1.111522714120216"
      ]
     },
     "execution_count": 55,
     "metadata": {},
     "output_type": "execute_result"
    }
   ],
   "source": [
    "weighted_emp"
   ]
  },
  {
   "cell_type": "markdown",
   "metadata": {},
   "source": [
    "__Employment status has lesser entropy. We can find out `information gain using $(1\\;-\\;entropy)$__"
   ]
  },
  {
   "cell_type": "markdown",
   "metadata": {},
   "source": [
    "### Task: Calculate the `entropy` for `age node`. What will be its `entropy`?"
   ]
  },
  {
   "cell_type": "code",
   "execution_count": null,
   "metadata": {
    "collapsed": true
   },
   "outputs": [],
   "source": []
  },
  {
   "cell_type": "markdown",
   "metadata": {},
   "source": [
    "### Variance"
   ]
  },
  {
   "cell_type": "markdown",
   "metadata": {},
   "source": [
    "Reduction in variance is an algorithm used for continuous target variables (regression problems). This algorithm uses the standard formula of variance to choose the best split. The split with lower variance is selected as the criteria to split the population:"
   ]
  },
  {
   "cell_type": "markdown",
   "metadata": {},
   "source": [
    "$$variance\\;=\\;\\frac{\\sum(x\\;-\\;\\overline{x})}{n}$$"
   ]
  },
  {
   "cell_type": "markdown",
   "metadata": {},
   "source": [
    "- Variance for root node - Split (26-24)\n",
    "- Assigning `watching film` as `1` and `not watching film` as `0`."
   ]
  },
  {
   "cell_type": "code",
   "execution_count": 56,
   "metadata": {
    "collapsed": true
   },
   "outputs": [],
   "source": [
    "mean_root = (26*1 + 24*0)/float(50)"
   ]
  },
  {
   "cell_type": "code",
   "execution_count": 57,
   "metadata": {},
   "outputs": [
    {
     "data": {
      "text/plain": [
       "0.52"
      ]
     },
     "execution_count": 57,
     "metadata": {},
     "output_type": "execute_result"
    }
   ],
   "source": [
    "mean_root"
   ]
  },
  {
   "cell_type": "code",
   "execution_count": 58,
   "metadata": {
    "collapsed": true
   },
   "outputs": [],
   "source": [
    "var_root = (26*pow((1-0.52),2)+24*pow((0-0.52),2))/50"
   ]
  },
  {
   "cell_type": "code",
   "execution_count": 59,
   "metadata": {},
   "outputs": [
    {
     "data": {
      "text/plain": [
       "0.24960000000000002"
      ]
     },
     "execution_count": 59,
     "metadata": {},
     "output_type": "execute_result"
    }
   ],
   "source": [
    "var_root"
   ]
  },
  {
   "cell_type": "markdown",
   "metadata": {},
   "source": [
    "- Similarly calculating variance for `gender` split"
   ]
  },
  {
   "cell_type": "code",
   "execution_count": 60,
   "metadata": {
    "collapsed": true
   },
   "outputs": [],
   "source": [
    "#Women watched == 14\n",
    "#Women not watched == 8\n",
    "#Total women == 22\n",
    "mean_women = (14*1 + 8*0)/float(22)"
   ]
  },
  {
   "cell_type": "code",
   "execution_count": 61,
   "metadata": {},
   "outputs": [
    {
     "data": {
      "text/plain": [
       "0.6363636363636364"
      ]
     },
     "execution_count": 61,
     "metadata": {},
     "output_type": "execute_result"
    }
   ],
   "source": [
    "mean_women"
   ]
  },
  {
   "cell_type": "code",
   "execution_count": 62,
   "metadata": {
    "collapsed": true
   },
   "outputs": [],
   "source": [
    "var_women = ((14*pow((1-0.636),2))+(8*pow((0-0.636),2)))/22"
   ]
  },
  {
   "cell_type": "code",
   "execution_count": 63,
   "metadata": {},
   "outputs": [
    {
     "data": {
      "text/plain": [
       "0.23140509090909092"
      ]
     },
     "execution_count": 63,
     "metadata": {},
     "output_type": "execute_result"
    }
   ],
   "source": [
    "var_women"
   ]
  },
  {
   "cell_type": "code",
   "execution_count": 64,
   "metadata": {
    "collapsed": true
   },
   "outputs": [],
   "source": [
    "#Men watching == 12\n",
    "#Men not watching == 16\n",
    "#Total men == 28\n",
    "mean_men = (12*1 + 16*0)/float(28)"
   ]
  },
  {
   "cell_type": "code",
   "execution_count": 65,
   "metadata": {},
   "outputs": [
    {
     "data": {
      "text/plain": [
       "0.42857142857142855"
      ]
     },
     "execution_count": 65,
     "metadata": {},
     "output_type": "execute_result"
    }
   ],
   "source": [
    "mean_men"
   ]
  },
  {
   "cell_type": "code",
   "execution_count": 66,
   "metadata": {
    "collapsed": true
   },
   "outputs": [],
   "source": [
    "var_men = (12*pow((1-0.428),2)+16*pow((0-0.428),2))/28"
   ]
  },
  {
   "cell_type": "code",
   "execution_count": 67,
   "metadata": {},
   "outputs": [
    {
     "data": {
      "text/plain": [
       "0.24489828571428576"
      ]
     },
     "execution_count": 67,
     "metadata": {},
     "output_type": "execute_result"
    }
   ],
   "source": [
    "var_men"
   ]
  },
  {
   "cell_type": "code",
   "execution_count": 68,
   "metadata": {
    "collapsed": true
   },
   "outputs": [],
   "source": [
    "#Weighted variance for gender split\n",
    "weighted_gender = (28/float(50))*var_men + (22/float(50))*var_women"
   ]
  },
  {
   "cell_type": "code",
   "execution_count": 69,
   "metadata": {},
   "outputs": [
    {
     "data": {
      "text/plain": [
       "0.23896128000000005"
      ]
     },
     "execution_count": 69,
     "metadata": {},
     "output_type": "execute_result"
    }
   ],
   "source": [
    "weighted_gender"
   ]
  },
  {
   "cell_type": "markdown",
   "metadata": {},
   "source": [
    "- Calculating variance for `employment` split"
   ]
  },
  {
   "cell_type": "code",
   "execution_count": 70,
   "metadata": {
    "collapsed": true
   },
   "outputs": [],
   "source": [
    "#Total working watched == 22\n",
    "#Total working not watched == 19\n",
    "#Total working == 41\n",
    "mean_working = (22*1 + 19*0)/float(41)"
   ]
  },
  {
   "cell_type": "code",
   "execution_count": 71,
   "metadata": {},
   "outputs": [
    {
     "data": {
      "text/plain": [
       "0.5365853658536586"
      ]
     },
     "execution_count": 71,
     "metadata": {},
     "output_type": "execute_result"
    }
   ],
   "source": [
    "mean_working"
   ]
  },
  {
   "cell_type": "code",
   "execution_count": 72,
   "metadata": {
    "collapsed": true
   },
   "outputs": [],
   "source": [
    "var_working = (22*pow((1-0.536), 2) + 19*pow((0-0.536),2))/float(41)"
   ]
  },
  {
   "cell_type": "code",
   "execution_count": 73,
   "metadata": {},
   "outputs": [
    {
     "data": {
      "text/plain": [
       "0.24866185365853663"
      ]
     },
     "execution_count": 73,
     "metadata": {},
     "output_type": "execute_result"
    }
   ],
   "source": [
    "var_working"
   ]
  },
  {
   "cell_type": "code",
   "execution_count": 74,
   "metadata": {
    "collapsed": true
   },
   "outputs": [],
   "source": [
    "#Total students watched == 4\n",
    "#Total students not watched == 5\n",
    "#Total students == 9\n",
    "mean_students = (4*1 + 5*0)/float(9)"
   ]
  },
  {
   "cell_type": "code",
   "execution_count": 75,
   "metadata": {},
   "outputs": [
    {
     "data": {
      "text/plain": [
       "0.4444444444444444"
      ]
     },
     "execution_count": 75,
     "metadata": {},
     "output_type": "execute_result"
    }
   ],
   "source": [
    "mean_students"
   ]
  },
  {
   "cell_type": "code",
   "execution_count": 76,
   "metadata": {
    "collapsed": true
   },
   "outputs": [],
   "source": [
    "var_students = (4*pow((1-0.444),2) + 5*pow((0-0.444),2))/float(9)"
   ]
  },
  {
   "cell_type": "code",
   "execution_count": 77,
   "metadata": {},
   "outputs": [
    {
     "data": {
      "text/plain": [
       "0.2469137777777778"
      ]
     },
     "execution_count": 77,
     "metadata": {},
     "output_type": "execute_result"
    }
   ],
   "source": [
    "var_students"
   ]
  },
  {
   "cell_type": "code",
   "execution_count": 78,
   "metadata": {
    "collapsed": true
   },
   "outputs": [],
   "source": [
    "#Weighted variance for employment split\n",
    "weighted_emp = (41/float(50))*var_working + (9/float(50))*var_students"
   ]
  },
  {
   "cell_type": "code",
   "execution_count": 79,
   "metadata": {},
   "outputs": [
    {
     "data": {
      "text/plain": [
       "0.24834720000000005"
      ]
     },
     "execution_count": 79,
     "metadata": {},
     "output_type": "execute_result"
    }
   ],
   "source": [
    "weighted_emp"
   ]
  },
  {
   "cell_type": "markdown",
   "metadata": {},
   "source": [
    "__Here, `employment (weighted_emp)` split is slightly higher than `gender (weighted_gender)` split.__"
   ]
  },
  {
   "cell_type": "markdown",
   "metadata": {},
   "source": [
    "### Task: Calculate the `variance` for `age` split & compare it against other variances."
   ]
  },
  {
   "cell_type": "code",
   "execution_count": null,
   "metadata": {
    "collapsed": true
   },
   "outputs": [],
   "source": []
  }
 ],
 "metadata": {
  "kernelspec": {
   "display_name": "Python 2",
   "language": "python",
   "name": "python2"
  },
  "language_info": {
   "codemirror_mode": {
    "name": "ipython",
    "version": 2
   },
   "file_extension": ".py",
   "mimetype": "text/x-python",
   "name": "python",
   "nbconvert_exporter": "python",
   "pygments_lexer": "ipython2",
   "version": "2.7.13"
  },
  "widgets": {
   "state": {},
   "version": "1.1.2"
  }
 },
 "nbformat": 4,
 "nbformat_minor": 2
}
